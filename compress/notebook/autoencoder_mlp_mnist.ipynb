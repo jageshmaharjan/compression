{
 "cells": [
  {
   "cell_type": "code",
   "execution_count": 2,
   "metadata": {},
   "outputs": [],
   "source": [
    "from keras.layers import Input, Dense\n",
    "from keras.models import Model"
   ]
  },
  {
   "cell_type": "code",
   "execution_count": 155,
   "metadata": {},
   "outputs": [],
   "source": [
    "encoding_dim = 32\n",
    "\n",
    "input_img = Input(shape=(784,))\n",
    "# encoded = Dense(784, activation='relu')(input_img)\n",
    "encoded = Dense(256, activation='relu')(input_img)\n",
    "encoded = Dense(128, activation='relu')(encoded)\n",
    "encoded = Dense(64, activation='relu')(encoded)\n",
    "encoded = Dense(encoding_dim, activation='relu')(encoded)\n",
    "\n",
    "# decoded = Dense(64, activation='sigmoid')(encoded)\n",
    "# decoded = Dense(128, activation='sigmoid')(decoded)\n",
    "# decoded = Dense(256, activation='sigmoid')(decoded)\n",
    "# decoded = Dense(784, activation='sigmoid')(decoded)\n",
    "decoded = Dense(784, activation='sigmoid')(encoded)\n",
    "\n",
    "autoencoder = Model(input_img, decoded)"
   ]
  },
  {
   "cell_type": "code",
   "execution_count": 156,
   "metadata": {},
   "outputs": [],
   "source": [
    "encoder = Model(input_img, encoded)\n",
    "encoded_input = Input(shape=(encoding_dim,))\n",
    "\n",
    "decoder_layer = autoencoder.layers[-1]\n",
    "decoder = Model(encoded_input, decoder_layer(encoded_input))  "
   ]
  },
  {
   "cell_type": "code",
   "execution_count": 166,
   "metadata": {},
   "outputs": [
    {
     "name": "stdout",
     "output_type": "stream",
     "text": [
      "_________________________________________________________________\n",
      "Layer (type)                 Output Shape              Param #   \n",
      "=================================================================\n",
      "input_62 (InputLayer)        (None, 784)               0         \n",
      "_________________________________________________________________\n",
      "dense_151 (Dense)            (None, 256)               200960    \n",
      "_________________________________________________________________\n",
      "dense_152 (Dense)            (None, 128)               32896     \n",
      "_________________________________________________________________\n",
      "dense_153 (Dense)            (None, 64)                8256      \n",
      "_________________________________________________________________\n",
      "dense_154 (Dense)            (None, 32)                2080      \n",
      "_________________________________________________________________\n",
      "dense_155 (Dense)            (None, 784)               25872     \n",
      "=================================================================\n",
      "Total params: 270,064\n",
      "Trainable params: 270,064\n",
      "Non-trainable params: 0\n",
      "_________________________________________________________________\n"
     ]
    }
   ],
   "source": [
    "autoencoder.compile(optimizer='adadelta', loss='binary_crossentropy', metrics=['acc'])\n",
    "autoencoder.summary()"
   ]
  },
  {
   "cell_type": "code",
   "execution_count": 167,
   "metadata": {
    "collapsed": true
   },
   "outputs": [],
   "source": [
    "from keras.datasets import mnist\n",
    "import numpy as np"
   ]
  },
  {
   "cell_type": "code",
   "execution_count": 168,
   "metadata": {},
   "outputs": [],
   "source": [
    "(x_train,_),(x_test,_) = mnist.load_data()"
   ]
  },
  {
   "cell_type": "code",
   "execution_count": 169,
   "metadata": {},
   "outputs": [
    {
     "name": "stdout",
     "output_type": "stream",
     "text": [
      "(60000, 784)\n",
      "(10000, 784)\n"
     ]
    }
   ],
   "source": [
    "x_train = x_train.astype('float32')/255\n",
    "x_test = x_test.astype('float32')/255\n",
    "x_train = x_train.reshape((len(x_train), np.prod(x_train.shape[1:])))\n",
    "x_test = x_test.reshape((len(x_test), np.prod(x_test.shape[1:])))\n",
    "print(x_train.shape)\n",
    "print(x_test.shape)"
   ]
  },
  {
   "cell_type": "code",
   "execution_count": 170,
   "metadata": {},
   "outputs": [
    {
     "name": "stdout",
     "output_type": "stream",
     "text": [
      "Train on 60000 samples, validate on 10000 samples\n",
      "Epoch 1/50\n",
      "60000/60000 [==============================] - 8s - loss: 0.1486 - acc: 0.8061 - val_loss: 0.1459 - val_acc: 0.8069\n",
      "Epoch 2/50\n",
      "60000/60000 [==============================] - 5s - loss: 0.1465 - acc: 0.8065 - val_loss: 0.1441 - val_acc: 0.8078\n",
      "Epoch 3/50\n",
      "60000/60000 [==============================] - 5s - loss: 0.1442 - acc: 0.8069 - val_loss: 0.1419 - val_acc: 0.8083\n",
      "Epoch 4/50\n",
      "60000/60000 [==============================] - 5s - loss: 0.1417 - acc: 0.8074 - val_loss: 0.1377 - val_acc: 0.8078\n",
      "Epoch 5/50\n",
      "60000/60000 [==============================] - 6s - loss: 0.1393 - acc: 0.8078 - val_loss: 0.1359 - val_acc: 0.8084\n",
      "Epoch 6/50\n",
      "60000/60000 [==============================] - 5s - loss: 0.1372 - acc: 0.8081 - val_loss: 0.1338 - val_acc: 0.8087\n",
      "Epoch 7/50\n",
      "60000/60000 [==============================] - 6s - loss: 0.1354 - acc: 0.8084 - val_loss: 0.1323 - val_acc: 0.8089\n",
      "Epoch 8/50\n",
      "60000/60000 [==============================] - 5s - loss: 0.1337 - acc: 0.8087 - val_loss: 0.1314 - val_acc: 0.8093\n",
      "Epoch 9/50\n",
      "60000/60000 [==============================] - 7s - loss: 0.1319 - acc: 0.8090 - val_loss: 0.1293 - val_acc: 0.8097\n",
      "Epoch 10/50\n",
      "60000/60000 [==============================] - 6s - loss: 0.1301 - acc: 0.8093 - val_loss: 0.1273 - val_acc: 0.8097\n",
      "Epoch 11/50\n",
      "60000/60000 [==============================] - 7s - loss: 0.1282 - acc: 0.8096 - val_loss: 0.1253 - val_acc: 0.8085\n",
      "Epoch 12/50\n",
      "60000/60000 [==============================] - 7s - loss: 0.1266 - acc: 0.8099 - val_loss: 0.1237 - val_acc: 0.8101\n",
      "Epoch 13/50\n",
      "60000/60000 [==============================] - 6s - loss: 0.1250 - acc: 0.8101 - val_loss: 0.1245 - val_acc: 0.8107\n",
      "Epoch 14/50\n",
      "60000/60000 [==============================] - 7s - loss: 0.1239 - acc: 0.8103 - val_loss: 0.1222 - val_acc: 0.8101\n",
      "Epoch 15/50\n",
      "60000/60000 [==============================] - 5s - loss: 0.1228 - acc: 0.8104 - val_loss: 0.1205 - val_acc: 0.8091\n",
      "Epoch 16/50\n",
      "60000/60000 [==============================] - 5s - loss: 0.1218 - acc: 0.8105 - val_loss: 0.1196 - val_acc: 0.8106\n",
      "Epoch 17/50\n",
      "60000/60000 [==============================] - 5s - loss: 0.1209 - acc: 0.8107 - val_loss: 0.1191 - val_acc: 0.8096\n",
      "Epoch 18/50\n",
      "60000/60000 [==============================] - 5s - loss: 0.1201 - acc: 0.8108 - val_loss: 0.1176 - val_acc: 0.8098\n",
      "Epoch 19/50\n",
      "60000/60000 [==============================] - 5s - loss: 0.1191 - acc: 0.8109 - val_loss: 0.1168 - val_acc: 0.8095\n",
      "Epoch 20/50\n",
      "60000/60000 [==============================] - 5s - loss: 0.1182 - acc: 0.8111 - val_loss: 0.1163 - val_acc: 0.8110\n",
      "Epoch 21/50\n",
      "60000/60000 [==============================] - 5s - loss: 0.1174 - acc: 0.8112 - val_loss: 0.1153 - val_acc: 0.8104\n",
      "Epoch 22/50\n",
      "60000/60000 [==============================] - 5s - loss: 0.1167 - acc: 0.8113 - val_loss: 0.1153 - val_acc: 0.8096\n",
      "Epoch 23/50\n",
      "60000/60000 [==============================] - 5s - loss: 0.1160 - acc: 0.8113 - val_loss: 0.1140 - val_acc: 0.8113\n",
      "Epoch 24/50\n",
      "60000/60000 [==============================] - 5s - loss: 0.1152 - acc: 0.8115 - val_loss: 0.1128 - val_acc: 0.81120.\n",
      "Epoch 25/50\n",
      "60000/60000 [==============================] - 5s - loss: 0.1146 - acc: 0.8115 - val_loss: 0.1124 - val_acc: 0.8112\n",
      "Epoch 26/50\n",
      "60000/60000 [==============================] - 5s - loss: 0.1139 - acc: 0.8116 - val_loss: 0.1118 - val_acc: 0.8103 ETA: 2s - loss: 0.113 - ETA: 1s - loss: 0.1138 - acc: 0. - ETA: 1s - loss: \n",
      "Epoch 27/50\n",
      "60000/60000 [==============================] - 5s - loss: 0.1132 - acc: 0.8117 - val_loss: 0.1130 - val_acc: 0.8095\n",
      "Epoch 28/50\n",
      "60000/60000 [==============================] - 5s - loss: 0.1125 - acc: 0.8118 - val_loss: 0.1122 - val_acc: 0.80960\n",
      "Epoch 29/50\n",
      "60000/60000 [==============================] - 5s - loss: 0.1118 - acc: 0.8119 - val_loss: 0.1094 - val_acc: 0.8109\n",
      "Epoch 30/50\n",
      "60000/60000 [==============================] - 5s - loss: 0.1112 - acc: 0.8120 - val_loss: 0.1102 - val_acc: 0.8106\n",
      "Epoch 31/50\n",
      "60000/60000 [==============================] - 5s - loss: 0.1104 - acc: 0.8121 - val_loss: 0.1091 - val_acc: 0.81180.\n",
      "Epoch 32/50\n",
      "60000/60000 [==============================] - 5s - loss: 0.1098 - acc: 0.8122 - val_loss: 0.1078 - val_acc: 0.8112\n",
      "Epoch 33/50\n",
      "60000/60000 [==============================] - 5s - loss: 0.1092 - acc: 0.8122 - val_loss: 0.1073 - val_acc: 0.8112\n",
      "Epoch 34/50\n",
      "60000/60000 [==============================] - 5s - loss: 0.1087 - acc: 0.8123 - val_loss: 0.1078 - val_acc: 0.8107\n",
      "Epoch 35/50\n",
      "60000/60000 [==============================] - 5s - loss: 0.1082 - acc: 0.8124 - val_loss: 0.1074 - val_acc: 0.8119\n",
      "Epoch 36/50\n",
      "60000/60000 [==============================] - 5s - loss: 0.1077 - acc: 0.8124 - val_loss: 0.1064 - val_acc: 0.8110\n",
      "Epoch 37/50\n",
      "60000/60000 [==============================] - 5s - loss: 0.1071 - acc: 0.8125 - val_loss: 0.1055 - val_acc: 0.8119\n",
      "Epoch 38/50\n",
      "60000/60000 [==============================] - 5s - loss: 0.1066 - acc: 0.8125 - val_loss: 0.1060 - val_acc: 0.8116\n",
      "Epoch 39/50\n",
      "60000/60000 [==============================] - 5s - loss: 0.1061 - acc: 0.8126 - val_loss: 0.1051 - val_acc: 0.8122\n",
      "Epoch 40/50\n",
      "60000/60000 [==============================] - 5s - loss: 0.1056 - acc: 0.8127 - val_loss: 0.1034 - val_acc: 0.8118\n",
      "Epoch 41/50\n",
      "60000/60000 [==============================] - 5s - loss: 0.1052 - acc: 0.8127 - val_loss: 0.1031 - val_acc: 0.8118\n",
      "Epoch 42/50\n",
      "60000/60000 [==============================] - 5s - loss: 0.1047 - acc: 0.8128 - val_loss: 0.1029 - val_acc: 0.8119\n",
      "Epoch 43/50\n",
      "60000/60000 [==============================] - 5s - loss: 0.1043 - acc: 0.8128 - val_loss: 0.1027 - val_acc: 0.8124\n",
      "Epoch 44/50\n",
      "60000/60000 [==============================] - 5s - loss: 0.1040 - acc: 0.8129 - val_loss: 0.1038 - val_acc: 0.8115\n",
      "Epoch 45/50\n",
      "60000/60000 [==============================] - 5s - loss: 0.1035 - acc: 0.8129 - val_loss: 0.1024 - val_acc: 0.8124\n",
      "Epoch 46/50\n",
      "60000/60000 [==============================] - 5s - loss: 0.1032 - acc: 0.8130 - val_loss: 0.1020 - val_acc: 0.8123\n",
      "Epoch 47/50\n",
      "60000/60000 [==============================] - 5s - loss: 0.1030 - acc: 0.8130 - val_loss: 0.1022 - val_acc: 0.8117\n",
      "Epoch 48/50\n",
      "60000/60000 [==============================] - 5s - loss: 0.1026 - acc: 0.8130 - val_loss: 0.1010 - val_acc: 0.8118\n",
      "Epoch 49/50\n",
      "60000/60000 [==============================] - 5s - loss: 0.1023 - acc: 0.8130 - val_loss: 0.1010 - val_acc: 0.8117\n",
      "Epoch 50/50\n",
      "60000/60000 [==============================] - 5s - loss: 0.1021 - acc: 0.8131 - val_loss: 0.1007 - val_acc: 0.8118\n"
     ]
    },
    {
     "data": {
      "text/plain": [
       "<keras.callbacks.History at 0x7fecddabe438>"
      ]
     },
     "execution_count": 170,
     "metadata": {},
     "output_type": "execute_result"
    }
   ],
   "source": [
    "autoencoder.fit(x_train, x_train, epochs=50, batch_size=256, shuffle=True,\n",
    "               validation_data=(x_test,x_test))"
   ]
  },
  {
   "cell_type": "code",
   "execution_count": 171,
   "metadata": {
    "collapsed": true
   },
   "outputs": [],
   "source": [
    "encoded_imgs = encoder.predict(x_test)\n",
    "decoded_imgs = decoder.predict(encoded_imgs)"
   ]
  },
  {
   "cell_type": "code",
   "execution_count": 172,
   "metadata": {
    "collapsed": true
   },
   "outputs": [],
   "source": [
    "import matplotlib.pyplot as plt"
   ]
  },
  {
   "cell_type": "code",
   "execution_count": 182,
   "metadata": {},
   "outputs": [
    {
     "data": {
      "image/png": "[encoded data removed]",
      "text/plain": [
       "<Figure size 1440x288 with 20 Axes>"
      ]
     },
     "metadata": {},
     "output_type": "display_data"
    }
   ],
   "source": [
    "n = 10\n",
    "plt.figure(figsize=(20,4))\n",
    "for i in range(n):\n",
    "    ax = plt.subplot(2,n,i+1)\n",
    "    plt.imshow(x_test[i].reshape(28,28))\n",
    "    plt.gray()\n",
    "    ax.get_xaxis().set_visible(False)\n",
    "    ax.get_yaxis().set_visible(False)\n",
    "        \n",
    "    ax = plt.subplot(2,n,i+1+n)\n",
    "    plt.imshow(decoded_imgs[i].reshape(28,28))\n",
    "    plt.gray()\n",
    "    ax.get_xaxis().set_visible(False)\n",
    "    ax.get_yaxis().set_visible(False)\n",
    "plt.show()"
   ]
  },
  {
   "cell_type": "code",
   "execution_count": null,
   "metadata": {
    "collapsed": true
   },
   "outputs": [],
   "source": []
  }
 ],
 "metadata": {
  "kernelspec": {
   "display_name": "Python 3",
   "language": "python",
   "name": "python3"
  },
  "language_info": {
   "codemirror_mode": {
    "name": "ipython",
    "version": 3
   },
   "file_extension": ".py",
   "mimetype": "text/x-python",
   "name": "python",
   "nbconvert_exporter": "python",
   "pygments_lexer": "ipython3",
   "version": "3.6.3"
  }
 },
 "nbformat": 4,
 "nbformat_minor": 2
}
