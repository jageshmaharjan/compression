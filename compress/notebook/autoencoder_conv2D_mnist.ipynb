{
 "cells": [
  {
   "cell_type": "code",
   "execution_count": 1,
   "metadata": {},
   "outputs": [
    {
     "name": "stderr",
     "output_type": "stream",
     "text": [
      "/home/jugs/anaconda3/envs/tensorflow/lib/python3.6/site-packages/h5py/__init__.py:36: FutureWarning: Conversion of the second argument of issubdtype from `float` to `np.floating` is deprecated. In future, it will be treated as `np.float64 == np.dtype(float).type`.\n",
      "  from ._conv import register_converters as _register_converters\n",
      "Using TensorFlow backend.\n"
     ]
    }
   ],
   "source": [
    "from keras.layers import Input,Dense, Conv2D, MaxPooling2D,UpSampling2D\n",
    "from keras.models import Model\n",
    "from keras import backend as k"
   ]
  },
  {
   "cell_type": "code",
   "execution_count": 72,
   "metadata": {},
   "outputs": [],
   "source": [
    "input_img = Input(shape=(28,28,1))\n",
    "\n",
    "x = Conv2D(4, (3, 3), activation='relu', padding='same')(input_img)\n",
    "x = MaxPooling2D((2, 2), padding='same')(x)\n",
    "x = Conv2D(8, (3, 3), activation='relu', padding='same')(x)\n",
    "x = MaxPooling2D((2, 2), padding='same')(x)\n",
    "x = Conv2D(16, (3, 3), activation='relu', padding='same')(x)\n",
    "x = MaxPooling2D((2, 2), padding='same')(x)\n",
    "x = Conv2D(32, (3, 3), activation='relu', padding='same')(x)\n",
    "x = MaxPooling2D((2, 2), padding='same')(x)\n",
    "x = Conv2D(32, (3, 3), activation='relu', padding='same')(x)\n",
    "\n",
    "encoded = MaxPooling2D((2, 2), padding='same')(x)"
   ]
  },
  {
   "cell_type": "code",
   "execution_count": 73,
   "metadata": {
    "collapsed": true
   },
   "outputs": [],
   "source": [
    "x = Conv2D(32, (3, 3), activation='relu', padding='same')(encoded)\n",
    "x = UpSampling2D((2, 2))(x)\n",
    "x = Conv2D(32, (3, 3), activation='relu', padding='same')(x)\n",
    "x = UpSampling2D((2, 2))(x)\n",
    "x = Conv2D(16, (3, 3), activation='relu', padding='same')(x)\n",
    "x = UpSampling2D((2, 2))(x)\n",
    "x = Conv2D(8, (3, 3), activation='relu', padding='same')(x)\n",
    "x = UpSampling2D((2, 2))(x)\n",
    "x = Conv2D(4, (3, 3), activation='relu')(x)\n",
    "x = UpSampling2D((2, 2))(x)\n",
    "\n",
    "decoded = Conv2D(1, (3, 3), activation='sigmoid', padding='same')(x)"
   ]
  },
  {
   "cell_type": "code",
   "execution_count": 74,
   "metadata": {},
   "outputs": [
    {
     "name": "stdout",
     "output_type": "stream",
     "text": [
      "_________________________________________________________________\n",
      "Layer (type)                 Output Shape              Param #   \n",
      "=================================================================\n",
      "input_13 (InputLayer)        (None, 28, 28, 1)         0         \n",
      "_________________________________________________________________\n",
      "conv2d_68 (Conv2D)           (None, 28, 28, 4)         40        \n",
      "_________________________________________________________________\n",
      "max_pooling2d_33 (MaxPooling (None, 14, 14, 4)         0         \n",
      "_________________________________________________________________\n",
      "conv2d_69 (Conv2D)           (None, 14, 14, 8)         296       \n",
      "_________________________________________________________________\n",
      "max_pooling2d_34 (MaxPooling (None, 7, 7, 8)           0         \n",
      "_________________________________________________________________\n",
      "conv2d_70 (Conv2D)           (None, 7, 7, 16)          1168      \n",
      "_________________________________________________________________\n",
      "max_pooling2d_35 (MaxPooling (None, 4, 4, 16)          0         \n",
      "_________________________________________________________________\n",
      "conv2d_71 (Conv2D)           (None, 4, 4, 32)          4640      \n",
      "_________________________________________________________________\n",
      "max_pooling2d_36 (MaxPooling (None, 2, 2, 32)          0         \n",
      "_________________________________________________________________\n",
      "conv2d_72 (Conv2D)           (None, 2, 2, 32)          9248      \n",
      "_________________________________________________________________\n",
      "max_pooling2d_37 (MaxPooling (None, 1, 1, 32)          0         \n",
      "_________________________________________________________________\n",
      "conv2d_73 (Conv2D)           (None, 1, 1, 32)          9248      \n",
      "_________________________________________________________________\n",
      "up_sampling2d_26 (UpSampling (None, 2, 2, 32)          0         \n",
      "_________________________________________________________________\n",
      "conv2d_74 (Conv2D)           (None, 2, 2, 32)          9248      \n",
      "_________________________________________________________________\n",
      "up_sampling2d_27 (UpSampling (None, 4, 4, 32)          0         \n",
      "_________________________________________________________________\n",
      "conv2d_75 (Conv2D)           (None, 4, 4, 16)          4624      \n",
      "_________________________________________________________________\n",
      "up_sampling2d_28 (UpSampling (None, 8, 8, 16)          0         \n",
      "_________________________________________________________________\n",
      "conv2d_76 (Conv2D)           (None, 8, 8, 8)           1160      \n",
      "_________________________________________________________________\n",
      "up_sampling2d_29 (UpSampling (None, 16, 16, 8)         0         \n",
      "_________________________________________________________________\n",
      "conv2d_77 (Conv2D)           (None, 14, 14, 4)         292       \n",
      "_________________________________________________________________\n",
      "up_sampling2d_30 (UpSampling (None, 28, 28, 4)         0         \n",
      "_________________________________________________________________\n",
      "conv2d_78 (Conv2D)           (None, 28, 28, 1)         37        \n",
      "=================================================================\n",
      "Total params: 40,001\n",
      "Trainable params: 40,001\n",
      "Non-trainable params: 0\n",
      "_________________________________________________________________\n"
     ]
    }
   ],
   "source": [
    "autoencoder = Model(input_img, decoded)\n",
    "autoencoder.compile(optimizer='adadelta', loss='binary_crossentropy')\n",
    "autoencoder.summary()"
   ]
  },
  {
   "cell_type": "code",
   "execution_count": 91,
   "metadata": {
    "collapsed": true
   },
   "outputs": [],
   "source": [
    "from keras.datasets import mnist\n",
    "import numpy as np"
   ]
  },
  {
   "cell_type": "code",
   "execution_count": 92,
   "metadata": {
    "collapsed": true
   },
   "outputs": [],
   "source": [
    "(x_train,_),(x_test,_) = mnist.load_data()"
   ]
  },
  {
   "cell_type": "code",
   "execution_count": 93,
   "metadata": {},
   "outputs": [
    {
     "name": "stdout",
     "output_type": "stream",
     "text": [
      "(60000, 28, 28, 1)\n",
      "(10000, 28, 28, 1)\n"
     ]
    }
   ],
   "source": [
    "x_train = x_train.astype('float32') / 255\n",
    "x_test = x_test.astype('float32') / 255\n",
    "x_train = np.reshape(x_train, (len(x_train),28,28,1))\n",
    "x_test = np.reshape(x_test,(len(x_test), 28,28,1))\n",
    "print(x_train.shape)\n",
    "print(x_test.shape)"
   ]
  },
  {
   "cell_type": "code",
   "execution_count": 94,
   "metadata": {},
   "outputs": [],
   "source": [
    "from keras.callbacks import TensorBoard"
   ]
  },
  {
   "cell_type": "code",
   "execution_count": 95,
   "metadata": {},
   "outputs": [
    {
     "name": "stdout",
     "output_type": "stream",
     "text": [
      "Train on 60000 samples, validate on 10000 samples\n",
      "Epoch 1/50\n",
      "60000/60000 [==============================] - 36s - loss: 0.1404 - val_loss: 0.1355\n",
      "Epoch 2/50\n",
      "60000/60000 [==============================] - 36s - loss: 0.1385 - val_loss: 0.1369\n",
      "Epoch 3/50\n",
      "60000/60000 [==============================] - 37s - loss: 0.1369 - val_loss: 0.1324\n",
      "Epoch 4/50\n",
      "60000/60000 [==============================] - 39s - loss: 0.1353 - val_loss: 0.1358\n",
      "Epoch 5/50\n",
      "60000/60000 [==============================] - 39s - loss: 0.1336 - val_loss: 0.1303\n",
      "Epoch 6/50\n",
      "60000/60000 [==============================] - 39s - loss: 0.1323 - val_loss: 0.1327\n",
      "Epoch 7/50\n",
      "60000/60000 [==============================] - 39s - loss: 0.1311 - val_loss: 0.1269\n",
      "Epoch 8/50\n",
      "60000/60000 [==============================] - 39s - loss: 0.1297 - val_loss: 0.1277\n",
      "Epoch 9/50\n",
      "60000/60000 [==============================] - 39s - loss: 0.1286 - val_loss: 0.1238\n",
      "Epoch 10/50\n",
      "60000/60000 [==============================] - 40s - loss: 0.1277 - val_loss: 0.1259\n",
      "Epoch 11/50\n",
      "60000/60000 [==============================] - 39s - loss: 0.1265 - val_loss: 0.1269\n",
      "Epoch 12/50\n",
      "60000/60000 [==============================] - 39s - loss: 0.1256 - val_loss: 0.1226\n",
      "Epoch 13/50\n",
      "60000/60000 [==============================] - 40s - loss: 0.1248 - val_loss: 0.1244\n",
      "Epoch 14/50\n",
      "60000/60000 [==============================] - 39s - loss: 0.1241 - val_loss: 0.1206\n",
      "Epoch 15/50\n",
      "60000/60000 [==============================] - 39s - loss: 0.1232 - val_loss: 0.1216\n",
      "Epoch 16/50\n",
      "60000/60000 [==============================] - 39s - loss: 0.1224 - val_loss: 0.1203\n",
      "Epoch 17/50\n",
      "60000/60000 [==============================] - 39s - loss: 0.1218 - val_loss: 0.1211\n",
      "Epoch 18/50\n",
      "60000/60000 [==============================] - 39s - loss: 0.1211 - val_loss: 0.1209\n",
      "Epoch 19/50\n",
      "60000/60000 [==============================] - 40s - loss: 0.1206 - val_loss: 0.1200\n",
      "Epoch 20/50\n",
      "60000/60000 [==============================] - 40s - loss: 0.1198 - val_loss: 0.1169\n",
      "Epoch 21/50\n",
      "60000/60000 [==============================] - 39s - loss: 0.1195 - val_loss: 0.1210\n",
      "Epoch 22/50\n",
      "60000/60000 [==============================] - 39s - loss: 0.1188 - val_loss: 0.1149\n",
      "Epoch 23/50\n",
      "60000/60000 [==============================] - 40s - loss: 0.1182 - val_loss: 0.1166\n",
      "Epoch 24/50\n",
      "60000/60000 [==============================] - 40s - loss: 0.1178 - val_loss: 0.1212\n",
      "Epoch 25/50\n",
      "60000/60000 [==============================] - 40s - loss: 0.1173 - val_loss: 0.1161\n",
      "Epoch 26/50\n",
      "60000/60000 [==============================] - 40s - loss: 0.1168 - val_loss: 0.1172\n",
      "Epoch 27/50\n",
      "60000/60000 [==============================] - 40s - loss: 0.1165 - val_loss: 0.1144\n",
      "Epoch 28/50\n",
      "60000/60000 [==============================] - 40s - loss: 0.1161 - val_loss: 0.1147\n",
      "Epoch 29/50\n",
      "60000/60000 [==============================] - 40s - loss: 0.1156 - val_loss: 0.1127\n",
      "Epoch 30/50\n",
      "60000/60000 [==============================] - 40s - loss: 0.1151 - val_loss: 0.1126\n",
      "Epoch 31/50\n",
      "60000/60000 [==============================] - 40s - loss: 0.1148 - val_loss: 0.1125\n",
      "Epoch 32/50\n",
      "60000/60000 [==============================] - 40s - loss: 0.1143 - val_loss: 0.1123\n",
      "Epoch 33/50\n",
      "60000/60000 [==============================] - 40s - loss: 0.1141 - val_loss: 0.1123\n",
      "Epoch 34/50\n",
      "60000/60000 [==============================] - 40s - loss: 0.1136 - val_loss: 0.1123\n",
      "Epoch 35/50\n",
      "60000/60000 [==============================] - 40s - loss: 0.1132 - val_loss: 0.1113\n",
      "Epoch 36/50\n",
      "60000/60000 [==============================] - 40s - loss: 0.1129 - val_loss: 0.1114\n",
      "Epoch 37/50\n",
      "60000/60000 [==============================] - 40s - loss: 0.1126 - val_loss: 0.1115\n",
      "Epoch 38/50\n",
      "60000/60000 [==============================] - 40s - loss: 0.1123 - val_loss: 0.1128\n",
      "Epoch 39/50\n",
      "60000/60000 [==============================] - 40s - loss: 0.1119 - val_loss: 0.1125\n",
      "Epoch 40/50\n",
      "60000/60000 [==============================] - 40s - loss: 0.1116 - val_loss: 0.1114\n",
      "Epoch 41/50\n",
      "60000/60000 [==============================] - 40s - loss: 0.1113 - val_loss: 0.1077\n",
      "Epoch 42/50\n",
      "60000/60000 [==============================] - 40s - loss: 0.1108 - val_loss: 0.1104\n",
      "Epoch 43/50\n",
      "60000/60000 [==============================] - 40s - loss: 0.1108 - val_loss: 0.1103\n",
      "Epoch 44/50\n",
      "60000/60000 [==============================] - 40s - loss: 0.1104 - val_loss: 0.1111\n",
      "Epoch 45/50\n",
      "60000/60000 [==============================] - 40s - loss: 0.1103 - val_loss: 0.1104\n",
      "Epoch 46/50\n",
      "60000/60000 [==============================] - 40s - loss: 0.1100 - val_loss: 0.1097\n",
      "Epoch 47/50\n",
      "60000/60000 [==============================] - 40s - loss: 0.1098 - val_loss: 0.1100\n",
      "Epoch 48/50\n",
      "60000/60000 [==============================] - 40s - loss: 0.1097 - val_loss: 0.1107\n",
      "Epoch 49/50\n",
      "60000/60000 [==============================] - 40s - loss: 0.1092 - val_loss: 0.1078\n",
      "Epoch 50/50\n",
      "60000/60000 [==============================] - 41s - loss: 0.1091 - val_loss: 0.1056\n"
     ]
    },
    {
     "data": {
      "text/plain": [
       "<keras.callbacks.History at 0x7f26ff15d908>"
      ]
     },
     "execution_count": 95,
     "metadata": {},
     "output_type": "execute_result"
    }
   ],
   "source": [
    "autoencoder.fit(x_train,x_train, epochs=50, batch_size=128,\n",
    "               shuffle=True, validation_data=(x_test,x_test),\n",
    "               callbacks=[TensorBoard(log_dir='/tmp/autoencoder')])"
   ]
  },
  {
   "cell_type": "code",
   "execution_count": 96,
   "metadata": {
    "collapsed": true
   },
   "outputs": [],
   "source": [
    "import matplotlib.pyplot as plt"
   ]
  },
  {
   "cell_type": "code",
   "execution_count": 97,
   "metadata": {},
   "outputs": [
    {
     "data": {
      "image/png": "[encoded data removed]",
      "text/plain": [
       "<Figure size 1440x288 with 20 Axes>"
      ]
     },
     "metadata": {},
     "output_type": "display_data"
    }
   ],
   "source": [
    "decoded_imgs = autoencoder.predict(x_test)\n",
    "\n",
    "n = 10\n",
    "plt.figure(figsize=(20, 4))\n",
    "for i in range(n):\n",
    "    # display original\n",
    "    ax = plt.subplot(2, n, i+1)\n",
    "    plt.imshow(x_test[i].reshape(28, 28))\n",
    "    plt.gray()\n",
    "    ax.get_xaxis().set_visible(False)\n",
    "    ax.get_yaxis().set_visible(False)\n",
    "\n",
    "    # display reconstruction\n",
    "    ax = plt.subplot(2, n, i+1 + n)\n",
    "    plt.imshow(decoded_imgs[i].reshape(28, 28))\n",
    "    plt.gray()\n",
    "    ax.get_xaxis().set_visible(False)\n",
    "    ax.get_yaxis().set_visible(False)\n",
    "plt.show()"
   ]
  },
  {
   "cell_type": "code",
   "execution_count": 88,
   "metadata": {},
   "outputs": [],
   "source": [
    "encoded_imgs= autoencoder.predict(x_test)\n",
    "# n = 10\n",
    "# plt.figure(figsize=(20, 8))\n",
    "# for i in range(n):\n",
    "#     ax = plt.subplot(1, n, i+1)\n",
    "#     plt.imshow(encoded_imgs[i].reshape(4, 4 * 8).T)\n",
    "#     plt.gray()\n",
    "#     ax.get_xaxis().set_visible(False)\n",
    "#     ax.get_yaxis().set_visible(False)\n",
    "# plt.show()"
   ]
  },
  {
   "cell_type": "code",
   "execution_count": null,
   "metadata": {
    "collapsed": true
   },
   "outputs": [],
   "source": []
  }
 ],
 "metadata": {
  "kernelspec": {
   "display_name": "Python 3",
   "language": "python",
   "name": "python3"
  },
  "language_info": {
   "codemirror_mode": {
    "name": "ipython",
    "version": 3
   },
   "file_extension": ".py",
   "mimetype": "text/x-python",
   "name": "python",
   "nbconvert_exporter": "python",
   "pygments_lexer": "ipython3",
   "version": "3.6.3"
  }
 },
 "nbformat": 4,
 "nbformat_minor": 2
}
