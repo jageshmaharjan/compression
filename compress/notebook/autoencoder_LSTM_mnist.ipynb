{
 "cells": [
  {
   "cell_type": "code",
   "execution_count": 6,
   "metadata": {},
   "outputs": [],
   "source": [
    "from keras.layers import Input, LSTM, RepeatVector\n",
    "from keras.models import Model\n",
    "from keras.datasets import mnist\n",
    "from keras.layers import Input,Dense, Conv2D, MaxPooling2D,UpSampling2D\n",
    "from keras.models import Model\n",
    "from keras import backend as k\n",
    "from keras.callbacks import TensorBoard\n",
    "import numpy as np\n",
    "import matplotlib.pyplot as plt"
   ]
  },
  {
   "cell_type": "code",
   "execution_count": 17,
   "metadata": {},
   "outputs": [],
   "source": [
    "(x_train, _), (x_test, _) = mnist.load_data()\n",
    "\n",
    "x_train = x_train.astype('float32') / 255.\n",
    "x_test = x_test.astype('float32') / 255.\n",
    "x_train = np.reshape(x_train, (len(x_train), 784, 1))  # adapt this if using `channels_first` image data format\n",
    "x_test = np.reshape(x_test, (len(x_test), 784, 1))  "
   ]
  },
  {
   "cell_type": "code",
   "execution_count": 11,
   "metadata": {},
   "outputs": [
    {
     "data": {
      "image/png": "[encoded data removed]",
      "text/plain": [
       "<Figure size 1440x288 with 10 Axes>"
      ]
     },
     "metadata": {},
     "output_type": "display_data"
    }
   ],
   "source": [
    "n = 10\n",
    "plt.figure(figsize=(20, 4))\n",
    "for i in range(n):\n",
    "    ax = plt.subplot(1, n, i+1)\n",
    "    plt.imshow(x_train[i].reshape(28, 28))\n",
    "    plt.gray()\n",
    "    ax.get_xaxis().set_visible(False)\n",
    "    ax.get_yaxis().set_visible(False)\n",
    "plt.show()"
   ]
  },
  {
   "cell_type": "code",
   "execution_count": 32,
   "metadata": {},
   "outputs": [],
   "source": [
    "timesteps = 784\n",
    "input_dim = 1\n",
    "latent_dim = 32\n",
    "\n",
    "inputs = Input(shape=(timesteps, input_dim))\n",
    "\n",
    "encoded = LSTM(latent_dim)(inputs)\n",
    "\n",
    "decoded = RepeatVector(timesteps)(encoded)\n",
    "decoded = LSTM(input_dim, return_sequences=True)(decoded)\n",
    "\n",
    "sequence_autoencoder = Model(inputs, decoded)\n",
    "encoder = Model(inputs, encoded)"
   ]
  },
  {
   "cell_type": "code",
   "execution_count": 33,
   "metadata": {},
   "outputs": [
    {
     "name": "stdout",
     "output_type": "stream",
     "text": [
      "_________________________________________________________________\n",
      "Layer (type)                 Output Shape              Param #   \n",
      "=================================================================\n",
      "input_8 (InputLayer)         (None, 784, 1)            0         \n",
      "_________________________________________________________________\n",
      "lstm_13 (LSTM)               (None, 32)                4352      \n",
      "_________________________________________________________________\n",
      "repeat_vector_7 (RepeatVecto (None, 784, 32)           0         \n",
      "_________________________________________________________________\n",
      "lstm_14 (LSTM)               (None, 784, 1)            136       \n",
      "=================================================================\n",
      "Total params: 4,488\n",
      "Trainable params: 4,488\n",
      "Non-trainable params: 0\n",
      "_________________________________________________________________\n"
     ]
    }
   ],
   "source": [
    "autoencoder = Model(inputs, decoded)\n",
    "autoencoder.compile(optimizer='adadelta', loss='binary_crossentropy', metrics=['acc'])\n",
    "\n",
    "autoencoder.summary()"
   ]
  },
  {
   "cell_type": "code",
   "execution_count": 34,
   "metadata": {},
   "outputs": [
    {
     "name": "stdout",
     "output_type": "stream",
     "text": [
      "Train on 60000 samples, validate on 10000 samples\n",
      "Epoch 1/10\n",
      "60000/60000 [==============================] - 574s - loss: 0.4148 - acc: 0.8088 - val_loss: 0.3921 - val_acc: 0.8072\n",
      "Epoch 2/10\n",
      "60000/60000 [==============================] - 575s - loss: 0.3876 - acc: 0.8088 - val_loss: 0.3909 - val_acc: 0.8072\n",
      "Epoch 3/10\n",
      "60000/60000 [==============================] - 631s - loss: 0.3875 - acc: 0.8088 - val_loss: 0.3909 - val_acc: 0.8072\n",
      "Epoch 4/10\n",
      "60000/60000 [==============================] - 646s - loss: 0.3875 - acc: 0.8088 - val_loss: 0.3909 - val_acc: 0.8072\n",
      "Epoch 5/10\n",
      "60000/60000 [==============================] - 613s - loss: 0.3874 - acc: 0.8088 - val_loss: 0.3910 - val_acc: 0.8072\n",
      "Epoch 6/10\n",
      "60000/60000 [==============================] - 598s - loss: 0.3874 - acc: 0.8088 - val_loss: 0.3908 - val_acc: 0.8072\n",
      "Epoch 7/10\n",
      "60000/60000 [==============================] - 606s - loss: 0.3874 - acc: 0.8088 - val_loss: 0.3908 - val_acc: 0.8072\n",
      "Epoch 8/10\n",
      "60000/60000 [==============================] - 589s - loss: 0.3873 - acc: 0.8088 - val_loss: 0.3908 - val_acc: 0.8072\n",
      "Epoch 9/10\n",
      "60000/60000 [==============================] - 622s - loss: 0.3871 - acc: 0.8088 - val_loss: 0.3904 - val_acc: 0.8072\n",
      "Epoch 10/10\n",
      "60000/60000 [==============================] - 654s - loss: 0.3852 - acc: 0.8088 - val_loss: 0.3793 - val_acc: 0.8072\n"
     ]
    },
    {
     "data": {
      "text/plain": [
       "<keras.callbacks.History at 0x7fb683c743c8>"
      ]
     },
     "execution_count": 34,
     "metadata": {},
     "output_type": "execute_result"
    }
   ],
   "source": [
    "autoencoder.fit(x_train, x_train,\n",
    "                epochs=10,\n",
    "                batch_size=128,\n",
    "                shuffle=True,\n",
    "                validation_data=(x_test, x_test),\n",
    "                callbacks=[TensorBoard(log_dir='/tmp/tb', histogram_freq=0, write_graph=False)])"
   ]
  },
  {
   "cell_type": "code",
   "execution_count": 37,
   "metadata": {},
   "outputs": [
    {
     "data": {
      "image/png": "[encoded data removed]",
      "text/plain": [
       "<Figure size 1440x288 with 2 Axes>"
      ]
     },
     "metadata": {},
     "output_type": "display_data"
    },
    {
     "data": {
      "image/png": "[encoded data removed]",
      "text/plain": [
       "<Figure size 1440x288 with 20 Axes>"
      ]
     },
     "metadata": {},
     "output_type": "display_data"
    }
   ],
   "source": [
    "decoded_imgs = autoencoder.predict(x_test)\n",
    "\n",
    "n = 10\n",
    "plt.figure(figsize=(20, 4))\n",
    "for i in range(n):\n",
    "    # display original\n",
    "    ax = plt.subplot(2, n, i+1)\n",
    "    plt.imshow(x_test[i].reshape(28, 28))\n",
    "    plt.gray()\n",
    "    ax.get_xaxis().set_visible(False)\n",
    "    ax.get_yaxis().set_visible(False)\n",
    "\n",
    "    # display reconstruction\n",
    "    ax = plt.subplot(2, n, i+1 + n)\n",
    "    plt.imshow(decoded_imgs[i].reshape(28, 28))\n",
    "    plt.gray()\n",
    "    ax.get_xaxis().set_visible(False)\n",
    "    ax.get_yaxis().set_visible(False)\n",
    "plt.show()"
   ]
  },
  {
   "cell_type": "code",
   "execution_count": null,
   "metadata": {
    "collapsed": true
   },
   "outputs": [],
   "source": []
  }
 ],
 "metadata": {
  "kernelspec": {
   "display_name": "Python 3",
   "language": "python",
   "name": "python3"
  },
  "language_info": {
   "codemirror_mode": {
    "name": "ipython",
    "version": 3
   },
   "file_extension": ".py",
   "mimetype": "text/x-python",
   "name": "python",
   "nbconvert_exporter": "python",
   "pygments_lexer": "ipython3",
   "version": "3.6.3"
  }
 },
 "nbformat": 4,
 "nbformat_minor": 2
}
